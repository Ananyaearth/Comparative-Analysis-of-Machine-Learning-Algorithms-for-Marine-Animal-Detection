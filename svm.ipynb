{
  "cells": [
    {
      "cell_type": "code",
      "execution_count": null,
      "metadata": {
        "id": "QHOK9sNykyC7"
      },
      "outputs": [],
      "source": [
        "import os\n",
        "import numpy as np\n",
        "import matplotlib.pyplot as plt\n",
        "from tensorflow.keras.preprocessing.image import ImageDataGenerator\n",
        "from tensorflow.keras.applications import InceptionV3\n",
        "from tensorflow.keras.applications.inception_v3 import preprocess_input\n",
        "from tensorflow.keras.models import Model\n",
        "from sklearn.preprocessing import StandardScaler\n",
        "from sklearn.decomposition import PCA\n",
        "from sklearn.svm import SVC\n",
        "from sklearn.metrics import classification_report, ConfusionMatrixDisplay\n",
        "from sklearn.model_selection import GridSearchCV\n",
        "import joblib\n"
      ]
    },
    {
      "cell_type": "code",
      "execution_count": null,
      "metadata": {
        "id": "B9bLdL5HkyQh"
      },
      "outputs": [],
      "source": [
        "train_path = '/content/versions/marine-animals-dataset/versions/1/train'\n",
        "test_path = '/content/versions/marine-animals-dataset/versions/1/test'\n"
      ]
    },
    {
      "cell_type": "code",
      "execution_count": null,
      "metadata": {
        "colab": {
          "base_uri": "https://localhost:8080/"
        },
        "id": "gNCvzhyDkyau",
        "outputId": "febafc58-8106-4ffa-f028-0f46fe5bea03"
      },
      "outputs": [
        {
          "name": "stdout",
          "output_type": "stream",
          "text": [
            "Found 1241 images belonging to 5 classes.\n",
            "Found 100 images belonging to 5 classes.\n",
            "Class indices: {'Dolphin': 0, 'Fish': 1, 'Lobster': 2, 'Octopus': 3, 'Sea Horse': 4}\n"
          ]
        }
      ],
      "source": [
        "# Image size for InceptionV3\n",
        "img_size = (299, 299)\n",
        "\n",
        "# Data generators with augmentation for training\n",
        "train_datagen = ImageDataGenerator(\n",
        "    preprocessing_function=preprocess_input,\n",
        "    rotation_range=30,\n",
        "    width_shift_range=0.2,\n",
        "    height_shift_range=0.2,\n",
        "    shear_range=0.2,\n",
        "    zoom_range=0.2,\n",
        "    horizontal_flip=True,\n",
        "    fill_mode='nearest'\n",
        ")\n",
        "\n",
        "# No augmentation for testing\n",
        "test_datagen = ImageDataGenerator(preprocessing_function=preprocess_input)\n",
        "\n",
        "# Data loaders\n",
        "train_gen = train_datagen.flow_from_directory(\n",
        "    train_path, target_size=img_size, batch_size=32, class_mode='sparse', shuffle=True)\n",
        "\n",
        "test_gen = test_datagen.flow_from_directory(\n",
        "    test_path, target_size=img_size, batch_size=32, class_mode='sparse', shuffle=False)\n",
        "\n",
        "print(\"Class indices:\", train_gen.class_indices)\n"
      ]
    },
    {
      "cell_type": "code",
      "execution_count": null,
      "metadata": {
        "colab": {
          "base_uri": "https://localhost:8080/"
        },
        "id": "NNg47eWIlCMM",
        "outputId": "0cbe002d-5804-4415-c925-ed57eb21fe8d"
      },
      "outputs": [
        {
          "name": "stdout",
          "output_type": "stream",
          "text": [
            "Downloading data from https://storage.googleapis.com/tensorflow/keras-applications/inception_v3/inception_v3_weights_tf_dim_ordering_tf_kernels_notop.h5\n",
            "\u001b[1m87910968/87910968\u001b[0m \u001b[32m━━━━━━━━━━━━━━━━━━━━\u001b[0m\u001b[37m\u001b[0m \u001b[1m5s\u001b[0m 0us/step\n"
          ]
        }
      ],
      "source": [
        "# Load InceptionV3 pre-trained on ImageNet\n",
        "base_model = InceptionV3(weights='imagenet', include_top=False, input_shape=(299, 299, 3))\n",
        "\n",
        "# Create a feature extractor model\n",
        "feature_extractor = Model(inputs=base_model.input, outputs=base_model.output)\n",
        "\n",
        "# Fine-tune last few layers by unfreezing them\n",
        "for layer in feature_extractor.layers[-20:]:  # Unfreeze last 20 layers\n",
        "    layer.trainable = True\n"
      ]
    },
    {
      "cell_type": "code",
      "execution_count": null,
      "metadata": {
        "colab": {
          "base_uri": "https://localhost:8080/"
        },
        "id": "T2tRv_xmlGnM",
        "outputId": "cd02b7ed-12d9-4b97-daf2-448ee78142e4"
      },
      "outputs": [
        {
          "name": "stdout",
          "output_type": "stream",
          "text": [
            "Training features shape: (1241, 131072)\n",
            "Testing features shape: (100, 131072)\n"
          ]
        }
      ],
      "source": [
        "def extract_features(generator, feature_extractor):\n",
        "    num_samples = generator.samples\n",
        "    features = np.zeros((num_samples, np.prod(feature_extractor.output_shape[1:])))\n",
        "    labels = np.zeros(num_samples)\n",
        "\n",
        "    i = 0\n",
        "    for inputs, targets in generator:\n",
        "        batch_features = feature_extractor.predict(inputs, verbose=0)\n",
        "        batch_size = inputs.shape[0]\n",
        "        features[i:i + batch_size] = batch_features.reshape(batch_size, -1)\n",
        "        labels[i:i + batch_size] = targets\n",
        "        i += batch_size\n",
        "        if i >= num_samples:\n",
        "            break\n",
        "\n",
        "    return features, labels\n",
        "\n",
        "# Extract features\n",
        "X_train, y_train = extract_features(train_gen, feature_extractor)\n",
        "X_test, y_test = extract_features(test_gen, feature_extractor)\n",
        "\n",
        "print(\"Training features shape:\", X_train.shape)\n",
        "print(\"Testing features shape:\", X_test.shape)\n"
      ]
    },
    {
      "cell_type": "code",
      "execution_count": null,
      "metadata": {
        "id": "RCqZiEyylHBv"
      },
      "outputs": [],
      "source": [
        "scaler = StandardScaler()\n",
        "X_train = scaler.fit_transform(X_train)\n",
        "X_test = scaler.transform(X_test)\n"
      ]
    },
    {
      "cell_type": "code",
      "execution_count": null,
      "metadata": {
        "colab": {
          "base_uri": "https://localhost:8080/"
        },
        "id": "h9byEioslHPT",
        "outputId": "4a3c62ca-ada9-4a0b-df1f-3315ca27ae21"
      },
      "outputs": [
        {
          "name": "stdout",
          "output_type": "stream",
          "text": [
            "Number of components after PCA: 1154\n"
          ]
        }
      ],
      "source": [
        "pca = PCA(n_components=0.99)\n",
        "X_train_pca = pca.fit_transform(X_train)\n",
        "X_test_pca = pca.transform(X_test)\n",
        "\n",
        "print(f\"Number of components after PCA: {X_train_pca.shape[1]}\")\n"
      ]
    },
    {
      "cell_type": "code",
      "execution_count": null,
      "metadata": {
        "colab": {
          "base_uri": "https://localhost:8080/"
        },
        "id": "KXAQy1jPlHeJ",
        "outputId": "1ca3b97e-ae9c-4caa-9f96-51dce119c701"
      },
      "outputs": [
        {
          "name": "stdout",
          "output_type": "stream",
          "text": [
            "Fitting 5 folds for each of 30 candidates, totalling 150 fits\n",
            "[CV] END ..................C=0.1, gamma=scale, kernel=linear; total time=   0.6s\n",
            "[CV] END ..................C=0.1, gamma=scale, kernel=linear; total time=   0.6s\n",
            "[CV] END ..................C=0.1, gamma=scale, kernel=linear; total time=   0.6s\n",
            "[CV] END ..................C=0.1, gamma=scale, kernel=linear; total time=   0.6s\n",
            "[CV] END ..................C=0.1, gamma=scale, kernel=linear; total time=   0.6s\n",
            "[CV] END .....................C=0.1, gamma=scale, kernel=rbf; total time=   1.0s\n",
            "[CV] END .....................C=0.1, gamma=scale, kernel=rbf; total time=   0.8s\n",
            "[CV] END .....................C=0.1, gamma=scale, kernel=rbf; total time=   0.8s\n",
            "[CV] END .....................C=0.1, gamma=scale, kernel=rbf; total time=   0.8s\n",
            "[CV] END .....................C=0.1, gamma=scale, kernel=rbf; total time=   0.8s\n",
            "[CV] END ....................C=0.1, gamma=scale, kernel=poly; total time=   0.8s\n",
            "[CV] END ....................C=0.1, gamma=scale, kernel=poly; total time=   0.8s\n",
            "[CV] END ....................C=0.1, gamma=scale, kernel=poly; total time=   0.7s\n",
            "[CV] END ....................C=0.1, gamma=scale, kernel=poly; total time=   0.8s\n",
            "[CV] END ....................C=0.1, gamma=scale, kernel=poly; total time=   0.8s\n",
            "[CV] END ...................C=0.1, gamma=auto, kernel=linear; total time=   0.5s\n",
            "[CV] END ...................C=0.1, gamma=auto, kernel=linear; total time=   0.5s\n",
            "[CV] END ...................C=0.1, gamma=auto, kernel=linear; total time=   0.5s\n",
            "[CV] END ...................C=0.1, gamma=auto, kernel=linear; total time=   0.5s\n",
            "[CV] END ...................C=0.1, gamma=auto, kernel=linear; total time=   0.5s\n",
            "[CV] END ......................C=0.1, gamma=auto, kernel=rbf; total time=   1.1s\n",
            "[CV] END ......................C=0.1, gamma=auto, kernel=rbf; total time=   1.1s\n",
            "[CV] END ......................C=0.1, gamma=auto, kernel=rbf; total time=   1.1s\n",
            "[CV] END ......................C=0.1, gamma=auto, kernel=rbf; total time=   1.1s\n",
            "[CV] END ......................C=0.1, gamma=auto, kernel=rbf; total time=   0.9s\n",
            "[CV] END .....................C=0.1, gamma=auto, kernel=poly; total time=   0.8s\n",
            "[CV] END .....................C=0.1, gamma=auto, kernel=poly; total time=   0.8s\n",
            "[CV] END .....................C=0.1, gamma=auto, kernel=poly; total time=   0.8s\n",
            "[CV] END .....................C=0.1, gamma=auto, kernel=poly; total time=   0.8s\n",
            "[CV] END .....................C=0.1, gamma=auto, kernel=poly; total time=   0.8s\n",
            "[CV] END ....................C=1, gamma=scale, kernel=linear; total time=   0.5s\n",
            "[CV] END ....................C=1, gamma=scale, kernel=linear; total time=   0.5s\n",
            "[CV] END ....................C=1, gamma=scale, kernel=linear; total time=   0.5s\n",
            "[CV] END ....................C=1, gamma=scale, kernel=linear; total time=   0.5s\n",
            "[CV] END ....................C=1, gamma=scale, kernel=linear; total time=   0.5s\n",
            "[CV] END .......................C=1, gamma=scale, kernel=rbf; total time=   0.7s\n",
            "[CV] END .......................C=1, gamma=scale, kernel=rbf; total time=   0.7s\n",
            "[CV] END .......................C=1, gamma=scale, kernel=rbf; total time=   0.7s\n",
            "[CV] END .......................C=1, gamma=scale, kernel=rbf; total time=   0.8s\n",
            "[CV] END .......................C=1, gamma=scale, kernel=rbf; total time=   0.9s\n",
            "[CV] END ......................C=1, gamma=scale, kernel=poly; total time=   1.0s\n",
            "[CV] END ......................C=1, gamma=scale, kernel=poly; total time=   0.9s\n",
            "[CV] END ......................C=1, gamma=scale, kernel=poly; total time=   0.9s\n",
            "[CV] END ......................C=1, gamma=scale, kernel=poly; total time=   0.8s\n",
            "[CV] END ......................C=1, gamma=scale, kernel=poly; total time=   0.8s\n",
            "[CV] END .....................C=1, gamma=auto, kernel=linear; total time=   0.5s\n",
            "[CV] END .....................C=1, gamma=auto, kernel=linear; total time=   0.5s\n",
            "[CV] END .....................C=1, gamma=auto, kernel=linear; total time=   0.5s\n",
            "[CV] END .....................C=1, gamma=auto, kernel=linear; total time=   0.5s\n",
            "[CV] END .....................C=1, gamma=auto, kernel=linear; total time=   0.5s\n",
            "[CV] END ........................C=1, gamma=auto, kernel=rbf; total time=   0.9s\n",
            "[CV] END ........................C=1, gamma=auto, kernel=rbf; total time=   0.9s\n",
            "[CV] END ........................C=1, gamma=auto, kernel=rbf; total time=   0.9s\n",
            "[CV] END ........................C=1, gamma=auto, kernel=rbf; total time=   0.9s\n",
            "[CV] END ........................C=1, gamma=auto, kernel=rbf; total time=   0.9s\n",
            "[CV] END .......................C=1, gamma=auto, kernel=poly; total time=   0.8s\n",
            "[CV] END .......................C=1, gamma=auto, kernel=poly; total time=   0.8s\n",
            "[CV] END .......................C=1, gamma=auto, kernel=poly; total time=   0.9s\n",
            "[CV] END .......................C=1, gamma=auto, kernel=poly; total time=   0.9s\n",
            "[CV] END .......................C=1, gamma=auto, kernel=poly; total time=   1.0s\n",
            "[CV] END ...................C=10, gamma=scale, kernel=linear; total time=   0.6s\n",
            "[CV] END ...................C=10, gamma=scale, kernel=linear; total time=   0.6s\n",
            "[CV] END ...................C=10, gamma=scale, kernel=linear; total time=   0.5s\n",
            "[CV] END ...................C=10, gamma=scale, kernel=linear; total time=   0.5s\n",
            "[CV] END ...................C=10, gamma=scale, kernel=linear; total time=   0.5s\n",
            "[CV] END ......................C=10, gamma=scale, kernel=rbf; total time=   0.8s\n",
            "[CV] END ......................C=10, gamma=scale, kernel=rbf; total time=   0.8s\n",
            "[CV] END ......................C=10, gamma=scale, kernel=rbf; total time=   0.8s\n",
            "[CV] END ......................C=10, gamma=scale, kernel=rbf; total time=   0.8s\n",
            "[CV] END ......................C=10, gamma=scale, kernel=rbf; total time=   0.8s\n",
            "[CV] END .....................C=10, gamma=scale, kernel=poly; total time=   0.8s\n",
            "[CV] END .....................C=10, gamma=scale, kernel=poly; total time=   0.8s\n",
            "[CV] END .....................C=10, gamma=scale, kernel=poly; total time=   0.8s\n",
            "[CV] END .....................C=10, gamma=scale, kernel=poly; total time=   0.8s\n",
            "[CV] END .....................C=10, gamma=scale, kernel=poly; total time=   0.8s\n",
            "[CV] END ....................C=10, gamma=auto, kernel=linear; total time=   0.5s\n",
            "[CV] END ....................C=10, gamma=auto, kernel=linear; total time=   0.6s\n",
            "[CV] END ....................C=10, gamma=auto, kernel=linear; total time=   0.6s\n",
            "[CV] END ....................C=10, gamma=auto, kernel=linear; total time=   0.6s\n",
            "[CV] END ....................C=10, gamma=auto, kernel=linear; total time=   0.6s\n",
            "[CV] END .......................C=10, gamma=auto, kernel=rbf; total time=   1.1s\n",
            "[CV] END .......................C=10, gamma=auto, kernel=rbf; total time=   1.0s\n",
            "[CV] END .......................C=10, gamma=auto, kernel=rbf; total time=   0.9s\n",
            "[CV] END .......................C=10, gamma=auto, kernel=rbf; total time=   0.9s\n",
            "[CV] END .......................C=10, gamma=auto, kernel=rbf; total time=   0.9s\n",
            "[CV] END ......................C=10, gamma=auto, kernel=poly; total time=   0.8s\n",
            "[CV] END ......................C=10, gamma=auto, kernel=poly; total time=   0.8s\n",
            "[CV] END ......................C=10, gamma=auto, kernel=poly; total time=   0.7s\n",
            "[CV] END ......................C=10, gamma=auto, kernel=poly; total time=   0.7s\n",
            "[CV] END ......................C=10, gamma=auto, kernel=poly; total time=   0.8s\n",
            "[CV] END ..................C=100, gamma=scale, kernel=linear; total time=   0.5s\n",
            "[CV] END ..................C=100, gamma=scale, kernel=linear; total time=   0.5s\n",
            "[CV] END ..................C=100, gamma=scale, kernel=linear; total time=   0.5s\n",
            "[CV] END ..................C=100, gamma=scale, kernel=linear; total time=   0.5s\n",
            "[CV] END ..................C=100, gamma=scale, kernel=linear; total time=   0.5s\n",
            "[CV] END .....................C=100, gamma=scale, kernel=rbf; total time=   0.8s\n",
            "[CV] END .....................C=100, gamma=scale, kernel=rbf; total time=   0.9s\n",
            "[CV] END .....................C=100, gamma=scale, kernel=rbf; total time=   1.0s\n",
            "[CV] END .....................C=100, gamma=scale, kernel=rbf; total time=   1.0s\n",
            "[CV] END .....................C=100, gamma=scale, kernel=rbf; total time=   0.9s\n",
            "[CV] END ....................C=100, gamma=scale, kernel=poly; total time=   0.8s\n",
            "[CV] END ....................C=100, gamma=scale, kernel=poly; total time=   0.8s\n",
            "[CV] END ....................C=100, gamma=scale, kernel=poly; total time=   0.8s\n",
            "[CV] END ....................C=100, gamma=scale, kernel=poly; total time=   0.8s\n",
            "[CV] END ....................C=100, gamma=scale, kernel=poly; total time=   0.8s\n",
            "[CV] END ...................C=100, gamma=auto, kernel=linear; total time=   0.5s\n",
            "[CV] END ...................C=100, gamma=auto, kernel=linear; total time=   0.5s\n",
            "[CV] END ...................C=100, gamma=auto, kernel=linear; total time=   0.5s\n",
            "[CV] END ...................C=100, gamma=auto, kernel=linear; total time=   0.5s\n",
            "[CV] END ...................C=100, gamma=auto, kernel=linear; total time=   0.5s\n",
            "[CV] END ......................C=100, gamma=auto, kernel=rbf; total time=   0.9s\n",
            "[CV] END ......................C=100, gamma=auto, kernel=rbf; total time=   0.9s\n",
            "[CV] END ......................C=100, gamma=auto, kernel=rbf; total time=   0.9s\n",
            "[CV] END ......................C=100, gamma=auto, kernel=rbf; total time=   0.9s\n",
            "[CV] END ......................C=100, gamma=auto, kernel=rbf; total time=   1.1s\n",
            "[CV] END .....................C=100, gamma=auto, kernel=poly; total time=   0.9s\n",
            "[CV] END .....................C=100, gamma=auto, kernel=poly; total time=   1.0s\n",
            "[CV] END .....................C=100, gamma=auto, kernel=poly; total time=   1.0s\n",
            "[CV] END .....................C=100, gamma=auto, kernel=poly; total time=   0.8s\n",
            "[CV] END .....................C=100, gamma=auto, kernel=poly; total time=   0.8s\n",
            "[CV] END .................C=1000, gamma=scale, kernel=linear; total time=   0.5s\n",
            "[CV] END .................C=1000, gamma=scale, kernel=linear; total time=   0.5s\n",
            "[CV] END .................C=1000, gamma=scale, kernel=linear; total time=   0.5s\n",
            "[CV] END .................C=1000, gamma=scale, kernel=linear; total time=   0.6s\n",
            "[CV] END .................C=1000, gamma=scale, kernel=linear; total time=   0.5s\n",
            "[CV] END ....................C=1000, gamma=scale, kernel=rbf; total time=   0.8s\n",
            "[CV] END ....................C=1000, gamma=scale, kernel=rbf; total time=   0.8s\n",
            "[CV] END ....................C=1000, gamma=scale, kernel=rbf; total time=   0.8s\n",
            "[CV] END ....................C=1000, gamma=scale, kernel=rbf; total time=   0.8s\n",
            "[CV] END ....................C=1000, gamma=scale, kernel=rbf; total time=   0.8s\n",
            "[CV] END ...................C=1000, gamma=scale, kernel=poly; total time=   0.8s\n",
            "[CV] END ...................C=1000, gamma=scale, kernel=poly; total time=   0.8s\n",
            "[CV] END ...................C=1000, gamma=scale, kernel=poly; total time=   0.9s\n",
            "[CV] END ...................C=1000, gamma=scale, kernel=poly; total time=   0.9s\n",
            "[CV] END ...................C=1000, gamma=scale, kernel=poly; total time=   1.0s\n",
            "[CV] END ..................C=1000, gamma=auto, kernel=linear; total time=   0.6s\n",
            "[CV] END ..................C=1000, gamma=auto, kernel=linear; total time=   0.6s\n",
            "[CV] END ..................C=1000, gamma=auto, kernel=linear; total time=   0.6s\n",
            "[CV] END ..................C=1000, gamma=auto, kernel=linear; total time=   0.5s\n",
            "[CV] END ..................C=1000, gamma=auto, kernel=linear; total time=   0.5s\n",
            "[CV] END .....................C=1000, gamma=auto, kernel=rbf; total time=   0.9s\n",
            "[CV] END .....................C=1000, gamma=auto, kernel=rbf; total time=   0.9s\n",
            "[CV] END .....................C=1000, gamma=auto, kernel=rbf; total time=   0.9s\n",
            "[CV] END .....................C=1000, gamma=auto, kernel=rbf; total time=   0.9s\n",
            "[CV] END .....................C=1000, gamma=auto, kernel=rbf; total time=   0.9s\n",
            "[CV] END ....................C=1000, gamma=auto, kernel=poly; total time=   0.8s\n",
            "[CV] END ....................C=1000, gamma=auto, kernel=poly; total time=   0.8s\n",
            "[CV] END ....................C=1000, gamma=auto, kernel=poly; total time=   0.8s\n",
            "[CV] END ....................C=1000, gamma=auto, kernel=poly; total time=   0.8s\n",
            "[CV] END ....................C=1000, gamma=auto, kernel=poly; total time=   0.8s\n",
            "Best parameters: {'C': 0.1, 'gamma': 'scale', 'kernel': 'linear'}\n"
          ]
        }
      ],
      "source": [
        " param_grid = {\n",
        "    'C': [0.1, 1, 10, 100, 1000],\n",
        "    'kernel': ['linear', 'rbf', 'poly'],\n",
        "    'gamma': ['scale', 'auto']\n",
        "}\n",
        "\n",
        "grid = GridSearchCV(SVC(), param_grid, refit=True, verbose=2, cv=5)\n",
        "grid.fit(X_train_pca, y_train)\n",
        "\n",
        "print(\"Best parameters:\", grid.best_params_)\n",
        "svm = grid.best_estimator_\n",
        "\n"
      ]
    },
    {
      "cell_type": "code",
      "execution_count": null,
      "metadata": {
        "colab": {
          "base_uri": "https://localhost:8080/",
          "height": 698
        },
        "id": "ycuYtfaol_wy",
        "outputId": "6e71075d-7776-4c39-ed62-d5ca988ba62a"
      },
      "outputs": [
        {
          "name": "stdout",
          "output_type": "stream",
          "text": [
            "Classification Report:\n",
            "              precision    recall  f1-score   support\n",
            "\n",
            "     Dolphin       0.95      1.00      0.98        20\n",
            "        Fish       1.00      0.55      0.71        20\n",
            "     Lobster       1.00      0.90      0.95        20\n",
            "     Octopus       0.73      0.95      0.83        20\n",
            "   Sea Horse       0.79      0.95      0.86        20\n",
            "\n",
            "    accuracy                           0.87       100\n",
            "   macro avg       0.89      0.87      0.86       100\n",
            "weighted avg       0.89      0.87      0.86       100\n",
            "\n"
          ]
        },
        {
          "data": {
            "image/png": "[encoded data removed]",
            "text/plain": [
              "<Figure size 640x480 with 2 Axes>"
            ]
          },
          "metadata": {},
          "output_type": "display_data"
        }
      ],
      "source": [
        "y_pred = svm.predict(X_test_pca)\n",
        "\n",
        "# Classification report\n",
        "print(\"Classification Report:\")\n",
        "print(classification_report(y_test, y_pred, target_names=train_gen.class_indices.keys()))\n",
        "\n",
        "# Confusion matrix\n",
        "ConfusionMatrixDisplay.from_predictions(y_test, y_pred, display_labels=train_gen.class_indices.keys(), cmap='Blues')\n",
        "plt.title(\"Confusion Matrix\")\n",
        "plt.show()\n"
      ]
    },
    {
      "cell_type": "code",
      "execution_count": null,
      "metadata": {
        "colab": {
          "base_uri": "https://localhost:8080/"
        },
        "id": "Mz23l2kmmAKp",
        "outputId": "84c234b9-537d-452c-ea4c-7702f863f7a5"
      },
      "outputs": [
        {
          "name": "stdout",
          "output_type": "stream",
          "text": [
            "Models saved successfully!\n"
          ]
        }
      ],
      "source": [
        "  joblib.dump(pca, \"/content/pca_transform.pkl\")\n",
        "joblib.dump(svm, \"/content/svm_model.pkl\")\n",
        "print(\"Models saved successfully!\")\n"
      ]
    }
  ],
  "metadata": {
    "accelerator": "GPU",
    "colab": {
      "gpuType": "T4",
      "provenance": []
    },
    "kernelspec": {
      "display_name": "Python 3",
      "name": "python3"
    },
    "language_info": {
      "name": "python"
    }
  },
  "nbformat": 4,
  "nbformat_minor": 0
}
